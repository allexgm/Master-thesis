{
 "cells": [
  {
   "cell_type": "code",
   "execution_count": 3,
   "id": "d7fe2b1f",
   "metadata": {},
   "outputs": [
    {
     "name": "stdout",
     "output_type": "stream",
     "text": [
      "Properties extracted from \"alanine_b2plyp_def2QZVP.sum\" file\n",
      "Properties extracted from \"alanine_b2plyp_def2SVP.sum\" file\n",
      "Properties extracted from \"alanine_b2plyp_def2TZVP.sum\" file\n",
      "Properties extracted from \"tyrosine_pbe0_def2SVP.sum\" file\n",
      "All done !\n"
     ]
    }
   ],
   "source": [
    "import os\n",
    "import pandas as pd\n",
    "\n",
    "all_files = os.listdir()\n",
    "sum_files = [file for file in all_files if file.endswith(\".sum\")]\n",
    "charge=[['Atom','Charge']] # atom_name + atom_charge\n",
    "loc=[['Atom','Loc_index']] # atom_name + delocation_index\n",
    "deloc=[['Atom(A)','Atom(B)','Deloc_index']] # atom_A + atom_B + delocation_index_AB\n",
    "for output in sum_files:\n",
    "    file = open(output)\n",
    "    text = file.readlines()\n",
    "    for line in range(len(text)):\n",
    "         if text[line].startswith(('Atom A          q(A)              L(A)')): # ~charge\n",
    "                i=1\n",
    "                while True:\n",
    "                    i+=1\n",
    "                    if text[line+i].startswith('---'):\n",
    "                        break\n",
    "                    data_line = text[line+i].split()\n",
    "                    charge.append([data_line[0],float(data_line[1])])\n",
    "         \n",
    "         if text[line].startswith(('Atom A          N(A)             LI(A)            %Loc(A)')): # ~loc\n",
    "                i=1\n",
    "                while True:\n",
    "                    i+=1\n",
    "                    if text[line+i].startswith('---'):\n",
    "                        break\n",
    "                    data_line = text[line+i].split()\n",
    "                    loc.append([data_line[0],float(data_line[2])])\n",
    "        \n",
    "         if text[line].startswith(('Atom A    Atom B       2*D2(A,B)          DI(A,B)')): # ~deloc\n",
    "                i=1\n",
    "                while True:\n",
    "                    i+=1\n",
    "                    if text[line+i].startswith(' '):\n",
    "                        break\n",
    "                    data_line = text[line+i].split()\n",
    "                    deloc.append([data_line[0],data_line[1],float(data_line[3])])\n",
    "    df_charge = pd.DataFrame(charge)\n",
    "    df_loc = pd.DataFrame(loc)\n",
    "    df_deloc = pd.DataFrame(deloc)\n",
    "    df_charge.to_csv(output[:-4]+'_charge.csv', sep=' ', index=False, header=False)\n",
    "    df_loc.to_csv(output[:-4]+'_loc.csv', sep=' ', index=False, header=False)\n",
    "    df_deloc.to_csv(output[:-4]+'_deloc.csv', sep=' ', index=False, header=False)\n",
    "    charge = [charge[0]]\n",
    "    loc = [loc[0]]\n",
    "    deloc = [deloc[0]]\n",
    "    print('Properties extracted from \"'+output+'\" file')\n",
    "print('All done !')"
   ]
  },
  {
   "cell_type": "code",
   "execution_count": null,
   "id": "4894c40c",
   "metadata": {},
   "outputs": [],
   "source": []
  }
 ],
 "metadata": {
  "kernelspec": {
   "display_name": "Python 3 (ipykernel)",
   "language": "python",
   "name": "python3"
  },
  "language_info": {
   "codemirror_mode": {
    "name": "ipython",
    "version": 3
   },
   "file_extension": ".py",
   "mimetype": "text/x-python",
   "name": "python",
   "nbconvert_exporter": "python",
   "pygments_lexer": "ipython3",
   "version": "3.9.12"
  }
 },
 "nbformat": 4,
 "nbformat_minor": 5
}

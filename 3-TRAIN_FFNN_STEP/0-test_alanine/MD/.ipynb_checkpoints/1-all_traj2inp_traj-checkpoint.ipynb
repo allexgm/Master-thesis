{
 "cells": [
  {
   "cell_type": "code",
   "execution_count": 1,
   "id": "d7fe2b1f",
   "metadata": {
    "scrolled": true
   },
   "outputs": [
    {
     "ename": "FileNotFoundError",
     "evalue": "[WinError 3] El sistema no puede encontrar la ruta especificada: 'all_trajectories'",
     "output_type": "error",
     "traceback": [
      "\u001b[1;31m---------------------------------------------------------------------------\u001b[0m",
      "\u001b[1;31mFileNotFoundError\u001b[0m                         Traceback (most recent call last)",
      "Input \u001b[1;32mIn [1]\u001b[0m, in \u001b[0;36m<cell line: 12>\u001b[1;34m()\u001b[0m\n\u001b[0;32m     10\u001b[0m     os\u001b[38;5;241m.\u001b[39mmakedirs(\u001b[38;5;124m\"\u001b[39m\u001b[38;5;124minp_trajectories\u001b[39m\u001b[38;5;124m\"\u001b[39m)\n\u001b[0;32m     11\u001b[0m \u001b[38;5;66;03m# Obtener la lista de archivos en la carpeta de entrada\u001b[39;00m\n\u001b[1;32m---> 12\u001b[0m files \u001b[38;5;241m=\u001b[39m \u001b[43mos\u001b[49m\u001b[38;5;241;43m.\u001b[39;49m\u001b[43mlistdir\u001b[49m\u001b[43m(\u001b[49m\u001b[38;5;124;43m\"\u001b[39;49m\u001b[38;5;124;43mall_trajectories\u001b[39;49m\u001b[38;5;124;43m\"\u001b[39;49m\u001b[43m)\u001b[49m\n\u001b[0;32m     13\u001b[0m \u001b[38;5;66;03m# Iterar sobre cada archivo\u001b[39;00m\n\u001b[0;32m     14\u001b[0m \u001b[38;5;28;01mfor\u001b[39;00m file \u001b[38;5;129;01min\u001b[39;00m files:\n",
      "\u001b[1;31mFileNotFoundError\u001b[0m: [WinError 3] El sistema no puede encontrar la ruta especificada: 'all_trajectories'"
     ]
    }
   ],
   "source": [
    "import os\n",
    "import pandas as pd\n",
    "import random\n",
    "import shutil\n",
    "\n",
    "if os.path.exists(\"inp_trajectories\"):\n",
    "    shutil.rmtree(\"inp_trajectories\")\n",
    "    os.makedirs(\"inp_trajectories\")\n",
    "else:\n",
    "    os.makedirs(\"inp_trajectories\")\n",
    "# Obtener la lista de archivos en la carpeta de entrada\n",
    "files = os.listdir(\"all_trajectories\")\n",
    "# Iterar sobre cada archivo\n",
    "for file in files:\n",
    "    \n",
    "    os.makedirs(\"inp_trajectories/\"+file.replace('.xyz','').replace('selected_traj_',''))\n",
    "    # Hacer algo con cada archivo\n",
    "    # Por ejemplo, imprimir el nombre del archivo\n",
    "    print(\"Processing:\", file)\n",
    "    text = open(\"all_trajectories/\"+file)\n",
    "    lines = text.readlines()\n",
    "    natom = int(lines[0])\n",
    "    #I want 10*natom xyz frames from the 10000 generated:\n",
    "    index_list = random.sample(range(9999),10*(natom))\n",
    "    for ntraj in index_list:\n",
    "        subtraj = lines[(natom+2)*ntraj+2:(natom+2)*(ntraj+1)]\n",
    "        with open('inp_trajectories/'+file.replace('.xyz','').replace('selected_traj_','')+'/traj'+str(ntraj).zfill(4)+file.replace('selected_traj',''),'w') as inp:\n",
    "            inp.writelines(subtraj)\n"
   ]
  },
  {
   "cell_type": "code",
   "execution_count": null,
   "id": "4894c40c",
   "metadata": {},
   "outputs": [],
   "source": []
  },
  {
   "cell_type": "code",
   "execution_count": null,
   "id": "6583c1df",
   "metadata": {},
   "outputs": [],
   "source": []
  }
 ],
 "metadata": {
  "kernelspec": {
   "display_name": "Python 3 (ipykernel)",
   "language": "python",
   "name": "python3"
  },
  "language_info": {
   "codemirror_mode": {
    "name": "ipython",
    "version": 3
   },
   "file_extension": ".py",
   "mimetype": "text/x-python",
   "name": "python",
   "nbconvert_exporter": "python",
   "pygments_lexer": "ipython3",
   "version": "3.9.12"
  }
 },
 "nbformat": 4,
 "nbformat_minor": 5
}

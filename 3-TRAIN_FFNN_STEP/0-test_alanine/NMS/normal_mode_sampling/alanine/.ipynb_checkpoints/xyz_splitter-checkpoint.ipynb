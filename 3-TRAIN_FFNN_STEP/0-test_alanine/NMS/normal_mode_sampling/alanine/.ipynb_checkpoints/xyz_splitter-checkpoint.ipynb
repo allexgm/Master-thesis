{
 "cells": [
  {
   "cell_type": "code",
   "execution_count": 30,
   "id": "b31e74ca",
   "metadata": {},
   "outputs": [
    {
     "name": "stdout",
     "output_type": "stream",
     "text": [
      "All done !\n"
     ]
    }
   ],
   "source": [
    "# Obtener el nombre de la carpeta actual\n",
    "mol = dir\n",
    "\n",
    "file = open(\"confs_\"+mol+\".xyz\")\n",
    "text = file.readlines()\n",
    "natom = int(text[0])\n",
    "clusters = len(text) // (natom+2) \n",
    "\n",
    "# Iterate through chunks and write each to a separate file\n",
    "for i in range(clusters):\n",
    "    subfile = text[i * (natom+2): (i + 1) * (natom+2)]  # Get a chunk of 5 lines\n",
    "    output = f'{mol}_conf{i + 1}.xyz'  # Define output file name\n",
    "    with open(output, 'w') as file:\n",
    "        file.writelines(subfile)\n",
    "print('All done !')"
   ]
  },
  {
   "cell_type": "code",
   "execution_count": null,
   "id": "56e200ce",
   "metadata": {},
   "outputs": [],
   "source": []
  },
  {
   "cell_type": "code",
   "execution_count": null,
   "id": "2b498284",
   "metadata": {},
   "outputs": [],
   "source": []
  }
 ],
 "metadata": {
  "kernelspec": {
   "display_name": "Python 3 (ipykernel)",
   "language": "python",
   "name": "python3"
  },
  "language_info": {
   "codemirror_mode": {
    "name": "ipython",
    "version": 3
   },
   "file_extension": ".py",
   "mimetype": "text/x-python",
   "name": "python",
   "nbconvert_exporter": "python",
   "pygments_lexer": "ipython3",
   "version": "3.9.12"
  }
 },
 "nbformat": 4,
 "nbformat_minor": 5
}

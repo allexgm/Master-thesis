{
 "cells": [
  {
   "cell_type": "code",
   "execution_count": 2,
   "id": "0955ae98",
   "metadata": {},
   "outputs": [
    {
     "name": "stdout",
     "output_type": "stream",
     "text": [
      "Properties extracted from \"alanine.nnaim\" file\n",
      "Properties extracted from \"arginine.nnaim\" file\n",
      "Properties extracted from \"aspargine.nnaim\" file\n",
      "Properties extracted from \"aspartic.nnaim\" file\n",
      "Properties extracted from \"glutamate.nnaim\" file\n",
      "Properties extracted from \"glutamine.nnaim\" file\n",
      "Properties extracted from \"glycine.nnaim\" file\n",
      "Properties extracted from \"histidine.nnaim\" file\n",
      "Properties extracted from \"isoleucine.nnaim\" file\n",
      "Properties extracted from \"leucine.nnaim\" file\n",
      "Properties extracted from \"lysine.nnaim\" file\n",
      "Properties extracted from \"phenylalanine.nnaim\" file\n",
      "Properties extracted from \"proline.nnaim\" file\n",
      "Properties extracted from \"serine.nnaim\" file\n",
      "Properties extracted from \"threonine.nnaim\" file\n",
      "Properties extracted from \"tryptophan.nnaim\" file\n",
      "Properties extracted from \"tyrosine.nnaim\" file\n",
      "Properties extracted from \"valine.nnaim\" file\n",
      "All done!\n"
     ]
    }
   ],
   "source": [
    "import os\n",
    "import pandas as pd\n",
    "\n",
    "all_files = os.listdir()\n",
    "nnaim_files = [file for file in all_files if file.endswith(\".nnaim\")]\n",
    "charge=[['Atom','Charge']] # atom_name + atom_charge\n",
    "for output in nnaim_files:\n",
    "    file = open(output)\n",
    "    text = file.readlines()\n",
    "    line = 0\n",
    "    while True:\n",
    "        line+=1\n",
    "        if text[line+1].startswith(' #'):\n",
    "            break\n",
    "        data_line = text[line].split()\n",
    "        charge.append([str(data_line[1])+str(data_line[0]),float(data_line[2])]) \n",
    "    df_charge = pd.DataFrame(charge)\n",
    "    df_charge.to_csv(output[:-6]+'_charge_nnaim.csv', sep=' ', index=False, header=False)\n",
    "    charge = [charge[0]]\n",
    "    print('Properties extracted from \"'+output+'\" file')\n",
    "print('All done!')"
   ]
  },
  {
   "cell_type": "code",
   "execution_count": null,
   "id": "634a4d2e",
   "metadata": {},
   "outputs": [],
   "source": []
  }
 ],
 "metadata": {
  "kernelspec": {
   "display_name": "Python 3 (ipykernel)",
   "language": "python",
   "name": "python3"
  },
  "language_info": {
   "codemirror_mode": {
    "name": "ipython",
    "version": 3
   },
   "file_extension": ".py",
   "mimetype": "text/x-python",
   "name": "python",
   "nbconvert_exporter": "python",
   "pygments_lexer": "ipython3",
   "version": "3.9.12"
  }
 },
 "nbformat": 4,
 "nbformat_minor": 5
}
